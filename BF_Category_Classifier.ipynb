{
 "cells": [
  {
   "cell_type": "markdown",
   "metadata": {},
   "source": [
    "# Imports"
   ]
  },
  {
   "cell_type": "code",
   "execution_count": 1,
   "metadata": {},
   "outputs": [
    {
     "name": "stderr",
     "output_type": "stream",
     "text": [
      "/Users/mac/anaconda3/lib/python3.7/site-packages/sklearn/ensemble/weight_boosting.py:29: DeprecationWarning: numpy.core.umath_tests is an internal NumPy module and should not be imported. It will be removed in a future NumPy release.\n",
      "  from numpy.core.umath_tests import inner1d\n"
     ]
    }
   ],
   "source": [
    "import pandas as pd\n",
    "import numpy as np\n",
    "import matplotlib.pyplot as plt\n",
    "import seaborn\n",
    "from statistics import mean\n",
    "from time import time\n",
    "\n",
    "# encodage\n",
    "from sklearn.preprocessing import minmax_scale\n",
    "from Encoder import Encoder\n",
    "\n",
    "# partitionnement des données\n",
    "from sklearn.model_selection import train_test_split\n",
    "\n",
    "# modèles\n",
    "from sklearn import tree\n",
    "from sklearn.ensemble import RandomForestClassifier\n",
    "from sklearn.svm import SVC\n",
    "from utils import train_model\n",
    "\n",
    "# mesures de performances\n",
    "from sklearn.metrics import accuracy_score, precision_score, recall_score, precision_recall_fscore_support\n",
    "from sklearn.metrics import average_precision_score\n",
    "from utils import show_performances"
   ]
  },
  {
   "cell_type": "markdown",
   "metadata": {},
   "source": [
    "# Lecture du dataset pre-traité"
   ]
  },
  {
   "cell_type": "code",
   "execution_count": 2,
   "metadata": {},
   "outputs": [
    {
     "data": {
      "text/html": [
       "<div>\n",
       "<style scoped>\n",
       "    .dataframe tbody tr th:only-of-type {\n",
       "        vertical-align: middle;\n",
       "    }\n",
       "\n",
       "    .dataframe tbody tr th {\n",
       "        vertical-align: top;\n",
       "    }\n",
       "\n",
       "    .dataframe thead th {\n",
       "        text-align: right;\n",
       "    }\n",
       "</style>\n",
       "<table border=\"1\" class=\"dataframe\">\n",
       "  <thead>\n",
       "    <tr style=\"text-align: right;\">\n",
       "      <th></th>\n",
       "      <th>Product_ID</th>\n",
       "      <th>Gender</th>\n",
       "      <th>Age</th>\n",
       "      <th>Occupation</th>\n",
       "      <th>City_Category</th>\n",
       "      <th>Stay_In_Current_City_Years</th>\n",
       "      <th>Marital_Status</th>\n",
       "      <th>Purchase</th>\n",
       "      <th>Product_Category</th>\n",
       "    </tr>\n",
       "  </thead>\n",
       "  <tbody>\n",
       "    <tr>\n",
       "      <th>0</th>\n",
       "      <td>P00069042</td>\n",
       "      <td>F</td>\n",
       "      <td>0-17</td>\n",
       "      <td>10</td>\n",
       "      <td>A</td>\n",
       "      <td>2</td>\n",
       "      <td>0</td>\n",
       "      <td>8370</td>\n",
       "      <td>C00</td>\n",
       "    </tr>\n",
       "    <tr>\n",
       "      <th>1</th>\n",
       "      <td>P00248942</td>\n",
       "      <td>F</td>\n",
       "      <td>0-17</td>\n",
       "      <td>10</td>\n",
       "      <td>A</td>\n",
       "      <td>2</td>\n",
       "      <td>0</td>\n",
       "      <td>15200</td>\n",
       "      <td>AFN</td>\n",
       "    </tr>\n",
       "    <tr>\n",
       "      <th>2</th>\n",
       "      <td>P00087842</td>\n",
       "      <td>F</td>\n",
       "      <td>0-17</td>\n",
       "      <td>10</td>\n",
       "      <td>A</td>\n",
       "      <td>2</td>\n",
       "      <td>0</td>\n",
       "      <td>1422</td>\n",
       "      <td>L00</td>\n",
       "    </tr>\n",
       "    <tr>\n",
       "      <th>3</th>\n",
       "      <td>P00085442</td>\n",
       "      <td>F</td>\n",
       "      <td>0-17</td>\n",
       "      <td>10</td>\n",
       "      <td>A</td>\n",
       "      <td>2</td>\n",
       "      <td>0</td>\n",
       "      <td>1057</td>\n",
       "      <td>LN0</td>\n",
       "    </tr>\n",
       "    <tr>\n",
       "      <th>4</th>\n",
       "      <td>P00285442</td>\n",
       "      <td>M</td>\n",
       "      <td>55+</td>\n",
       "      <td>16</td>\n",
       "      <td>C</td>\n",
       "      <td>4+</td>\n",
       "      <td>0</td>\n",
       "      <td>7969</td>\n",
       "      <td>H00</td>\n",
       "    </tr>\n",
       "  </tbody>\n",
       "</table>\n",
       "</div>"
      ],
      "text/plain": [
       "  Product_ID Gender   Age  Occupation City_Category  \\\n",
       "0  P00069042      F  0-17          10             A   \n",
       "1  P00248942      F  0-17          10             A   \n",
       "2  P00087842      F  0-17          10             A   \n",
       "3  P00085442      F  0-17          10             A   \n",
       "4  P00285442      M   55+          16             C   \n",
       "\n",
       "  Stay_In_Current_City_Years  Marital_Status  Purchase Product_Category  \n",
       "0                          2               0      8370              C00  \n",
       "1                          2               0     15200              AFN  \n",
       "2                          2               0      1422              L00  \n",
       "3                          2               0      1057              LN0  \n",
       "4                         4+               0      7969              H00  "
      ]
     },
     "execution_count": 2,
     "metadata": {},
     "output_type": "execute_result"
    }
   ],
   "source": [
    "bf_df = pd.read_csv('./BlackFriday_Category_Preprocessed.csv')\n",
    "bf_df.head()"
   ]
  },
  {
   "cell_type": "markdown",
   "metadata": {},
   "source": [
    "# Encodage des colonnes"
   ]
  },
  {
   "cell_type": "markdown",
   "metadata": {},
   "source": [
    "## Product ID"
   ]
  },
  {
   "cell_type": "code",
   "execution_count": 3,
   "metadata": {},
   "outputs": [],
   "source": [
    "product_id_encoder = Encoder.Encoder()\n",
    "product_id = bf_df[\"Product_ID\"].tolist()\n",
    "product_id_encoded = product_id_encoder.encode_data(product_id)"
   ]
  },
  {
   "cell_type": "markdown",
   "metadata": {},
   "source": [
    "## Gender"
   ]
  },
  {
   "cell_type": "code",
   "execution_count": 4,
   "metadata": {},
   "outputs": [],
   "source": [
    "gender_encoder = Encoder.Encoder()\n",
    "gender = bf_df[\"Gender\"].tolist()\n",
    "gender_encoded = gender_encoder.encode_data(gender)"
   ]
  },
  {
   "cell_type": "markdown",
   "metadata": {},
   "source": [
    "## Age"
   ]
  },
  {
   "cell_type": "code",
   "execution_count": 5,
   "metadata": {},
   "outputs": [],
   "source": [
    "age_encoder = Encoder.Encoder()\n",
    "age = bf_df[\"Age\"].tolist()\n",
    "age_encoded = age_encoder.encode_data(age)"
   ]
  },
  {
   "cell_type": "markdown",
   "metadata": {},
   "source": [
    "## Occupation"
   ]
  },
  {
   "cell_type": "code",
   "execution_count": 6,
   "metadata": {},
   "outputs": [],
   "source": [
    "occupation_encoder = Encoder.Encoder()\n",
    "occupation = bf_df[\"Occupation\"].tolist()\n",
    "occupation_encoded = occupation_encoder.encode_data(occupation)"
   ]
  },
  {
   "cell_type": "markdown",
   "metadata": {},
   "source": [
    "## City category"
   ]
  },
  {
   "cell_type": "code",
   "execution_count": 7,
   "metadata": {},
   "outputs": [],
   "source": [
    "city_category_encoder = Encoder.Encoder()\n",
    "city_category = bf_df[\"City_Category\"].tolist()\n",
    "city_category_encoded = city_category_encoder.encode_data(city_category)"
   ]
  },
  {
   "cell_type": "markdown",
   "metadata": {},
   "source": [
    "## Stay In Current City Years"
   ]
  },
  {
   "cell_type": "code",
   "execution_count": 8,
   "metadata": {},
   "outputs": [],
   "source": [
    "years_encoder = Encoder.Encoder()\n",
    "years = bf_df[\"Stay_In_Current_City_Years\"].tolist()\n",
    "years_encoded = years_encoder.encode_data(years)"
   ]
  },
  {
   "cell_type": "markdown",
   "metadata": {},
   "source": [
    "## Marital Status"
   ]
  },
  {
   "cell_type": "code",
   "execution_count": 9,
   "metadata": {},
   "outputs": [],
   "source": [
    "martial_status_encoder = Encoder.Encoder()\n",
    "martial_status = bf_df[\"Marital_Status\"].tolist()\n",
    "martial_status_encoded = martial_status_encoder.encode_data(martial_status)"
   ]
  },
  {
   "cell_type": "markdown",
   "metadata": {},
   "source": [
    "## Purchase"
   ]
  },
  {
   "cell_type": "code",
   "execution_count": 10,
   "metadata": {},
   "outputs": [],
   "source": [
    "purchase_costs = bf_df[\"Purchase\"].tolist()"
   ]
  },
  {
   "cell_type": "code",
   "execution_count": 12,
   "metadata": {},
   "outputs": [],
   "source": [
    "# ==================== First ugly try with graphics ==================== #\n",
    "\n",
    "#np.random.seed(19680801)\n",
    "\n",
    "#colors = np.random.rand(len(product_category))\n",
    "\n",
    "#plt.figure(1, figsize=(120, 10))\n",
    "                        \n",
    "#plt.scatter(product_category, purchase_costs, c=colors, alpha=0.5)\n",
    "#plt.title(\"Nuage de points avec Matpotlib\")\n",
    "#plt.xlabel(\"Product category\")\n",
    "#plt.ylabel(\"Product price\")\n",
    "\n",
    "#plt.savefig(\"purchase-graphic.png\")\n",
    "\n",
    "#plt.show()"
   ]
  },
  {
   "cell_type": "code",
   "execution_count": 13,
   "metadata": {},
   "outputs": [
    {
     "data": {
      "image/png": "[encoded data removed]",
      "text/plain": [
       "<Figure size 5508x216 with 1 Axes>"
      ]
     },
     "metadata": {},
     "output_type": "display_data"
    },
    {
     "data": {
      "text/plain": [
       "<Figure size 8640x720 with 0 Axes>"
      ]
     },
     "metadata": {},
     "output_type": "display_data"
    }
   ],
   "source": [
    "seaborn.set(style='ticks')\n",
    "\n",
    "np.random.seed(0)\n",
    "\n",
    "df_purchase = pd.DataFrame({\n",
    "    'Price' : bf_df[\"Purchase\"],\n",
    "    'Category' : bf_df[\"Product_Category\"]\n",
    "})\n",
    "\n",
    "fg = seaborn.FacetGrid(data=df_purchase, hue='Category', aspect=25.50)\n",
    "\n",
    "plt.figure(figsize=(120, 10))\n",
    "\n",
    "fg.map(plt.scatter, 'Category', 'Price')\n",
    "\n",
    "fg.savefig(\"purchase-graphic-colored.png\")"
   ]
  },
  {
   "cell_type": "code",
   "execution_count": 11,
   "metadata": {},
   "outputs": [],
   "source": [
    "purchase_encoded = minmax_scale(X=purchase_costs)"
   ]
  },
  {
   "cell_type": "markdown",
   "metadata": {},
   "source": [
    "## Product Category"
   ]
  },
  {
   "cell_type": "code",
   "execution_count": 12,
   "metadata": {},
   "outputs": [],
   "source": [
    "product_category_encoder = Encoder.Encoder()\n",
    "product_category = bf_df[\"Product_Category\"].tolist()\n",
    "product_category_encoded = product_category_encoder.encode_data(product_category)"
   ]
  },
  {
   "cell_type": "markdown",
   "metadata": {},
   "source": [
    "# Classification"
   ]
  },
  {
   "cell_type": "markdown",
   "metadata": {},
   "source": [
    "## Création des inputs et outputs"
   ]
  },
  {
   "cell_type": "markdown",
   "metadata": {},
   "source": [
    "### Création manuelle"
   ]
  },
  {
   "cell_type": "code",
   "execution_count": 13,
   "metadata": {},
   "outputs": [],
   "source": [
    "X = []\n",
    "\n",
    "for i in range(0, len(product_id_encoded)):\n",
    "    X.append([\n",
    "        product_id_encoded[i],\n",
    "        gender_encoded[i],\n",
    "        age_encoded[i],\n",
    "        occupation_encoded[i],\n",
    "        city_category_encoded[i],\n",
    "        years_encoded[i],\n",
    "        martial_status_encoded[i],\n",
    "        purchase_encoded[i]\n",
    "    ])"
   ]
  },
  {
   "cell_type": "markdown",
   "metadata": {},
   "source": [
    "### Numpy : column_stack"
   ]
  },
  {
   "cell_type": "markdown",
   "metadata": {},
   "source": [
    "#### Inputs : X"
   ]
  },
  {
   "cell_type": "code",
   "execution_count": 14,
   "metadata": {},
   "outputs": [],
   "source": [
    "X = np.column_stack((np.asarray(product_id_encoded).astype(np.object),\n",
    "                     gender_encoded,\n",
    "                     age_encoded,\n",
    "                     occupation_encoded,\n",
    "                     city_category_encoded,\n",
    "                     years_encoded,\n",
    "                     martial_status_encoded,\n",
    "                     purchase_encoded))"
   ]
  },
  {
   "cell_type": "markdown",
   "metadata": {},
   "source": [
    "#### Outputs : y"
   ]
  },
  {
   "cell_type": "code",
   "execution_count": 15,
   "metadata": {},
   "outputs": [],
   "source": [
    "y = product_category_encoded"
   ]
  },
  {
   "cell_type": "markdown",
   "metadata": {},
   "source": [
    "## Division des données en ensembles de test et train"
   ]
  },
  {
   "cell_type": "markdown",
   "metadata": {},
   "source": [
    "## Division manuelle"
   ]
  },
  {
   "cell_type": "code",
   "execution_count": 16,
   "metadata": {},
   "outputs": [
    {
     "name": "stdout",
     "output_type": "stream",
     "text": [
      "376304  train set size.\n",
      "161273  test  set size.\n"
     ]
    }
   ],
   "source": [
    "data_size           = len(product_id_encoded)\n",
    "percent_train       = 0.7\n",
    "train_size          = round(data_size * percent_train)\n",
    "test_size           = data_size - train_size\n",
    "\n",
    "cpt_train           = 0\n",
    "cpt_test            = 0\n",
    "\n",
    "X_train             = []\n",
    "X_test              = []\n",
    "y_train             = []\n",
    "y_test              = []\n",
    "\n",
    "\n",
    "for ind,line in enumerate(X):\n",
    "    if cpt_train < train_size:\n",
    "        X_train.append(line)\n",
    "        y_train.append(y[ind])\n",
    "        cpt_train += 1\n",
    "    else:\n",
    "        X_test.append(line)\n",
    "        y_test.append(y[ind])\n",
    "        cpt_test += 1\n",
    "\n",
    "\n",
    "print(cpt_train,\" train set size.\")\n",
    "print(cpt_test,\" test  set size.\")"
   ]
  },
  {
   "cell_type": "markdown",
   "metadata": {},
   "source": [
    "## SkLearn : train_test_split"
   ]
  },
  {
   "cell_type": "code",
   "execution_count": 17,
   "metadata": {},
   "outputs": [
    {
     "name": "stderr",
     "output_type": "stream",
     "text": [
      "/Users/mac/anaconda3/lib/python3.7/site-packages/sklearn/model_selection/_split.py:2026: FutureWarning: From version 0.21, test_size will always complement train_size unless both are specified.\n",
      "  FutureWarning)\n"
     ]
    },
    {
     "name": "stdout",
     "output_type": "stream",
     "text": [
      "376303  train set size.\n",
      "161274  test  set size.\n"
     ]
    }
   ],
   "source": [
    "X_train, X_test, y_train, y_test = train_test_split(X, y, train_size=0.7, random_state=42,shuffle=True)\n",
    "\n",
    "print(len(X_train),\" train set size.\")\n",
    "print(len(X_test),\" test  set size.\")"
   ]
  },
  {
   "cell_type": "markdown",
   "metadata": {},
   "source": [
    "## SVM"
   ]
  },
  {
   "cell_type": "markdown",
   "metadata": {},
   "source": [
    "### Entrainement"
   ]
  },
  {
   "cell_type": "code",
   "execution_count": 36,
   "metadata": {},
   "outputs": [
    {
     "name": "stdout",
     "output_type": "stream",
     "text": [
      "Model entrainé en : 00:00:34\n"
     ]
    },
    {
     "name": "stderr",
     "output_type": "stream",
     "text": [
      "/Users/mac/anaconda3/lib/python3.7/site-packages/sklearn/svm/base.py:218: ConvergenceWarning: Solver terminated early (max_iter=5).  Consider pre-processing your data with StandardScaler or MinMaxScaler.\n",
      "  % self.max_iter, ConvergenceWarning)\n"
     ]
    },
    {
     "data": {
      "text/plain": [
       "SVC(C=1.0, cache_size=200, class_weight=None, coef0=0.0,\n",
       "  decision_function_shape='ovr', degree=3, gamma='auto', kernel='linear',\n",
       "  max_iter=5, probability=False, random_state=None, shrinking=False,\n",
       "  tol=0.001, verbose=False)"
      ]
     },
     "execution_count": 36,
     "metadata": {},
     "output_type": "execute_result"
    }
   ],
   "source": [
    "clf = SVC(\n",
    "    C=1.0,\n",
    "    kernel='linear',\n",
    "    degree=3,\n",
    "    gamma='auto',\n",
    "    coef0=0.0,\n",
    "    shrinking=False,\n",
    "    probability=False,\n",
    "    tol=0.001,\n",
    "    cache_size=200,\n",
    "    verbose=False,\n",
    "    max_iter=5,\n",
    "    decision_function_shape='ovr',\n",
    "    random_state=None\n",
    ")\n",
    "\n",
    "train_model(clf, X_train, y_train)"
   ]
  },
  {
   "cell_type": "markdown",
   "metadata": {},
   "source": [
    "### Mesures de performances"
   ]
  },
  {
   "cell_type": "code",
   "execution_count": 37,
   "metadata": {},
   "outputs": [
    {
     "name": "stdout",
     "output_type": "stream",
     "text": [
      "Prédictions faites en  : : 00:49:00\n",
      "accuracy: 0.76%.\n",
      "\n"
     ]
    },
    {
     "name": "stderr",
     "output_type": "stream",
     "text": [
      "/Users/mac/anaconda3/lib/python3.7/site-packages/sklearn/metrics/classification.py:1135: UndefinedMetricWarning: Precision and F-score are ill-defined and being set to 0.0 in labels with no predicted samples.\n",
      "  'precision', 'predicted', average, warn_for)\n",
      "/Users/mac/anaconda3/lib/python3.7/site-packages/sklearn/metrics/classification.py:1137: UndefinedMetricWarning: Recall and F-score are ill-defined and being set to 0.0 in labels with no true samples.\n",
      "  'recall', 'true', average, warn_for)\n"
     ]
    },
    {
     "name": "stdout",
     "output_type": "stream",
     "text": [
      "precision: [0.00081653 0.         0.         0.         0.         0.\n",
      " 0.         0.         0.         0.         0.         0.\n",
      " 0.         0.         0.         0.         0.         0.\n",
      " 0.         0.         0.         0.         0.         0.\n",
      " 0.         0.         0.         0.         0.         0.\n",
      " 0.         0.         0.         0.         0.         0.\n",
      " 0.         0.         0.         0.         0.         0.\n",
      " 0.         0.         0.         0.         0.         0.\n",
      " 0.         0.         0.         0.         0.         0.\n",
      " 0.         0.         0.         0.         0.         0.\n",
      " 0.         0.         0.         0.         0.         0.\n",
      " 0.         0.         0.         0.         0.         0.\n",
      " 0.         0.         0.         0.         0.         0.\n",
      " 0.         0.         0.         0.         0.         0.\n",
      " 0.         0.         0.         0.         0.         0.\n",
      " 0.         0.         0.         0.         0.         0.\n",
      " 0.         0.         0.         0.         0.         0.\n",
      " 0.         0.         0.         0.         0.         0.\n",
      " 0.         0.         0.02271227 0.         0.         0.\n",
      " 0.         0.         0.         0.         0.         0.\n",
      " 0.         0.         0.         0.00981201 0.         0.\n",
      " 0.         0.         0.         0.         0.         0.\n",
      " 0.         0.         0.         0.         0.         0.\n",
      " 0.         0.         0.         0.         0.         0.\n",
      " 0.         0.         0.         0.         0.         0.\n",
      " 0.         0.         0.         0.         0.         0.\n",
      " 0.         0.         0.         0.         0.         0.\n",
      " 0.         0.         0.         0.         0.         0.\n",
      " 0.         0.         0.         0.         0.         0.\n",
      " 0.         0.         0.         0.         0.         0.\n",
      " 0.         0.         0.         0.         0.         0.\n",
      " 0.         0.         0.         0.         0.         0.\n",
      " 0.         0.02301151 0.         0.         0.         0.\n",
      " 0.         0.0799464  0.         0.         0.         0.\n",
      " 0.         0.0360134  0.         0.02289604 0.         0.04292752\n",
      " 0.         0.         0.04930848 0.03276747 0.         0.05482718\n",
      " 0.         0.         0.         0.         0.01367578 0.\n",
      " 0.         0.         0.00215252 0.         0.00382514 0.04798962\n",
      " 0.01010101 0.00642055 0.01520468 0.         0.         0.\n",
      " 0.        ].\n",
      "\n",
      "recall: [0.97297297 0.         0.         0.         0.         0.\n",
      " 0.         0.         0.         0.         0.         0.\n",
      " 0.         0.         0.         0.         0.         0.\n",
      " 0.         0.         0.         0.         0.         0.\n",
      " 0.         0.         0.         0.         0.         0.\n",
      " 0.         0.         0.         0.         0.         0.\n",
      " 0.         0.         0.         0.         0.         0.\n",
      " 0.         0.         0.         0.         0.         0.\n",
      " 0.         0.         0.         0.         0.         0.\n",
      " 0.         0.         0.         0.         0.         0.\n",
      " 0.         0.         0.         0.         0.         0.\n",
      " 0.         0.         0.         0.         0.         0.\n",
      " 0.         0.         0.         0.         0.         0.\n",
      " 0.         0.         0.         0.         0.         0.\n",
      " 0.         0.         0.         0.         0.         0.\n",
      " 0.         0.         0.         0.         0.         0.\n",
      " 0.         0.         0.         0.         0.         0.\n",
      " 0.         0.         0.         0.         0.         0.\n",
      " 0.         0.         0.69076305 0.         0.         0.\n",
      " 0.         0.         0.         0.         0.         0.\n",
      " 0.         0.         0.         0.31315789 0.         0.\n",
      " 0.         0.         0.         0.         0.         0.\n",
      " 0.         0.         0.         0.         0.         0.\n",
      " 0.         0.         0.         0.         0.         0.\n",
      " 0.         0.         0.         0.         0.         0.\n",
      " 0.         0.         0.         0.         0.         0.\n",
      " 0.         0.         0.         0.         0.         0.\n",
      " 0.         0.         0.         0.         0.         0.\n",
      " 0.         0.         0.         0.         0.         0.\n",
      " 0.         0.         0.         0.         0.         0.\n",
      " 0.         0.         0.         0.         0.         0.\n",
      " 0.         0.         0.         0.         0.         0.\n",
      " 0.         0.6969697  0.         0.         0.         0.\n",
      " 0.         0.98895028 0.         0.         0.         0.\n",
      " 0.         1.         0.         1.         0.         1.\n",
      " 0.         0.         1.         1.         0.         1.\n",
      " 0.         0.         0.         0.         1.         0.\n",
      " 0.         0.         1.         0.         0.31818182 1.\n",
      " 1.         1.         1.         0.         0.         0.\n",
      " 0.        ].\n",
      "\n",
      "precision moyenne: 0.002018757839348988.\n",
      "\n",
      "recall moyen: 0.06800423706941812.\n",
      "\n",
      "1. in precision :  0\n",
      "0. in precision :  217\n",
      "1. in recall :  0\n",
      "0. in recall :  217\n"
     ]
    }
   ],
   "source": [
    "show_performances(clf, X_test, y_test)"
   ]
  },
  {
   "cell_type": "markdown",
   "metadata": {},
   "source": [
    "## Arbre de décision"
   ]
  },
  {
   "cell_type": "markdown",
   "metadata": {},
   "source": [
    "### Entrainement"
   ]
  },
  {
   "cell_type": "markdown",
   "metadata": {},
   "source": [
    "Récupération de la profondeur maximale de l'arbre"
   ]
  },
  {
   "cell_type": "code",
   "execution_count": 21,
   "metadata": {},
   "outputs": [
    {
     "name": "stdout",
     "output_type": "stream",
     "text": [
      "Prédictions faites en  : 00h00m00s\n",
      "accuracy: 97.03%.\n",
      "\n",
      "precision: [0.96       0.97857143 0.96711799 1.         0.97739228 0.96220756\n",
      " 0.99053785 0.97444934 0.98176846 0.96797386 0.98640612 0.97314286\n",
      " 0.94507703 0.94350282 0.97529429 0.98252185 0.99742268 0.95850622\n",
      " 0.95503792 0.94724221 0.97673923 0.93981146 0.97894737 0.9694501\n",
      " 0.9790795  0.86928105 0.99134688 0.9770291  0.97903564 0.98427673\n",
      " 0.97843898 0.97365269 0.95116773 0.97925004 0.96546641 0.99070848\n",
      " 0.92511013 0.95636998 0.97489824 0.99820467 0.99161188 0.97894737\n",
      " 0.98092643 0.99506173 0.96478873 0.99456522 0.97680412 0.99418605\n",
      " 0.98529412 0.98202363 0.98412698 1.         0.93866944 0.98941799\n",
      " 0.93157461 0.97165131 0.91411043 0.96039604 1.         0.97902098\n",
      " 0.98387097 0.9497307  0.94613749 0.9796334  0.99534884 1.\n",
      " 1.         1.         0.86740331 0.94029851 0.97540984 0.94223827\n",
      " 0.96911197 0.98275862 0.925      0.91735537 0.98802395 1.\n",
      " 0.98591549 0.84378109 0.99661017 0.93587995 0.96564885 0.97652582\n",
      " 0.99163569 0.96428571 1.         0.9869281  1.         0.98316498\n",
      " 0.98098098 0.98208955 0.94516971 0.91213389 1.         1.\n",
      " 0.9        1.         0.96666667 0.97338403 0.9502447  0.97368421\n",
      " 0.96135266 0.95314788 1.         0.96987952 0.99392097 0.99612403\n",
      " 1.         1.         1.         0.8671875  0.99150579 0.94701987\n",
      " 0.97515528 0.93220339 1.         0.9494382  0.92727273 0.95426829\n",
      " 0.98666667 0.97752809 1.         0.99736148 0.984375   0.98314607\n",
      " 0.88888889 1.         0.99656357 1.         0.984375   0.99266504\n",
      " 0.97409326 0.97468354 0.94054054 0.99013807 0.98757764 0.93410853\n",
      " 0.92361111 0.98449612 0.97637795 1.         0.95221843 1.\n",
      " 0.88461538 1.         0.96842105 0.995      0.96730245 0.97633136\n",
      " 0.85714286 0.98709677 0.98958333 0.95260664 0.96083551 0.94230769\n",
      " 1.         1.         0.98265896 0.97715736 1.         0.99310345\n",
      " 0.91515152 0.97058824 0.99009901 1.         1.         0.73684211\n",
      " 1.         1.         0.96875    0.93181818 0.92687386 0.84232365\n",
      " 0.98431373 1.         0.9609375  1.         0.79487179 0.98717949\n",
      " 0.98979592 0.95263158 0.91509434 0.97546012 1.         0.9929078\n",
      " 0.98540146 0.98666667 0.88461538 0.98790323 0.99145299 0.97142857\n",
      " 0.99418605 0.96875    0.97560976 1.         0.95454545 1.\n",
      " 0.95238095 0.99450549 0.94117647 0.74545455 0.93333333 0.92405063\n",
      " 0.97402597 1.         1.         0.92307692 0.89090909 1.\n",
      " 0.92307692 0.83018868 1.         1.         0.83333333 0.98888889\n",
      " 0.53125    0.96296296 1.         0.875      0.87804878 0.90322581\n",
      " 0.98214286 0.85714286 0.8        0.8974359  0.43333333 0.94871795\n",
      " 0.         0.         0.69230769 0.         0.         0.        ].\n",
      "\n",
      "recall: [0.97297297 0.98798077 0.98814229 1.         0.97537276 0.96394231\n",
      " 0.98660714 0.97145367 0.98378625 0.96231319 0.9893481  0.9709236\n",
      " 0.95661017 0.94084507 0.97657159 0.98007472 1.         0.97468354\n",
      " 0.95711183 0.96577017 0.97679123 0.93641618 0.96373057 0.97942387\n",
      " 0.98422713 0.84984026 0.99022924 0.99376947 0.98109244 0.99207607\n",
      " 0.97549441 0.97833935 0.94315789 0.97434007 0.96668775 0.98158803\n",
      " 0.95238095 0.94809689 0.98155738 0.98233216 0.99138713 0.99731903\n",
      " 0.98833219 0.99506173 0.99275362 0.98918919 0.98186528 0.96067416\n",
      " 0.98529412 0.98303342 0.9817296  1.         0.94258873 0.98767606\n",
      " 0.93055174 0.97719173 0.95512821 0.98477157 0.99253731 0.98591549\n",
      " 0.97340426 0.94633274 0.9508547  0.9796334  0.97716895 1.\n",
      " 0.9969419  1.         0.82198953 0.99212598 0.99166667 0.89078498\n",
      " 0.98046875 0.98507463 0.95015106 0.925      0.99297894 1.\n",
      " 1.         0.85743175 0.99661017 0.91649967 0.95112782 0.97196262\n",
      " 0.99812909 0.96213808 0.97674419 0.98371336 1.         0.98648649\n",
      " 0.96551724 0.99096386 0.95388669 0.93361884 1.         1.\n",
      " 0.91304348 1.         0.93548387 0.98841699 0.94792514 0.94468085\n",
      " 0.98029557 0.95454545 0.98913043 0.97575758 0.99090909 0.98467433\n",
      " 1.         0.99109792 1.         0.90243902 0.99380805 0.94078947\n",
      " 0.97515528 1.         0.99728997 0.95480226 0.96226415 0.97204969\n",
      " 0.99328859 0.93548387 0.97752809 0.99473684 0.99473684 0.98314607\n",
      " 0.91914894 0.99669967 0.99656357 1.         0.95454545 0.98783455\n",
      " 0.94       0.96450939 0.96666667 0.98624754 1.         0.94509804\n",
      " 0.96376812 0.9921875  0.99598394 0.99489796 0.92384106 1.\n",
      " 0.8349835  0.99099099 0.97354497 0.99004975 0.96467391 0.9939759\n",
      " 1.         1.         0.98958333 0.95714286 0.97097625 0.9245283\n",
      " 0.99375    1.         0.98837209 0.97715736 0.98333333 1.\n",
      " 0.90963855 1.         0.98039216 1.         0.984375   0.60869565\n",
      " 1.         0.99193548 0.99358974 0.93181818 0.91351351 0.87124464\n",
      " 0.96168582 0.96078431 0.9609375  0.96969697 0.75609756 1.\n",
      " 0.99317406 0.93782383 0.97       0.98148148 0.88888889 0.9929078\n",
      " 1.         0.96521739 0.93243243 0.96837945 1.         0.97142857\n",
      " 1.         0.93939394 0.9375     0.9375     1.         0.93442623\n",
      " 0.86956522 1.         0.94117647 0.77358491 0.93333333 0.93589744\n",
      " 1.         1.         0.36363636 0.97297297 0.98       0.96721311\n",
      " 1.         0.91666667 0.98780488 0.98795181 0.88235294 0.9673913\n",
      " 0.68       0.9122807  0.85714286 0.93333333 0.87804878 0.82352941\n",
      " 0.99099099 0.92307692 0.57142857 0.94594595 0.59090909 1.\n",
      " 0.         0.         0.69230769 0.         0.         0.        ].\n",
      "\n",
      "precision moyenne: 0.9371234475969001.\n",
      "\n",
      "recall moyen: 0.93545522601995.\n",
      "\n",
      "1. in precision :  41\n",
      "0. in precision :  5\n",
      "1. in recall :  41\n",
      "0. in recall :  5\n"
     ]
    },
    {
     "name": "stderr",
     "output_type": "stream",
     "text": [
      "/Users/mac/anaconda3/lib/python3.7/site-packages/sklearn/metrics/classification.py:1135: UndefinedMetricWarning: Precision and F-score are ill-defined and being set to 0.0 in labels with no predicted samples.\n",
      "  'precision', 'predicted', average, warn_for)\n",
      "/Users/mac/anaconda3/lib/python3.7/site-packages/sklearn/metrics/classification.py:1137: UndefinedMetricWarning: Recall and F-score are ill-defined and being set to 0.0 in labels with no true samples.\n",
      "  'recall', 'true', average, warn_for)\n"
     ]
    }
   ],
   "source": [
    "clf = tree.DecisionTreeClassifier()\n",
    "clf = clf.fit(X_train, y_train)\n",
    "clf.tree_.max_depth\n",
    "\n",
    "show_performances(clf, X_test, y_test)"
   ]
  },
  {
   "cell_type": "code",
   "execution_count": 19,
   "metadata": {},
   "outputs": [
    {
     "name": "stdout",
     "output_type": "stream",
     "text": [
      "Model entrainé en : 00:00:04\n"
     ]
    }
   ],
   "source": [
    "clf = tree.DecisionTreeClassifier(max_depth=27)\n",
    "\n",
    "clf = train_model(clf, X_train, y_train)"
   ]
  },
  {
   "cell_type": "markdown",
   "metadata": {},
   "source": [
    "### Mesure de performances"
   ]
  },
  {
   "cell_type": "code",
   "execution_count": 20,
   "metadata": {},
   "outputs": [
    {
     "name": "stdout",
     "output_type": "stream",
     "text": [
      "Prédictions faites en  : 00h00m01s\n",
      "accuracy: 93.62%.\n",
      "\n",
      "precision: [1.         0.9736211  0.95961538 1.         0.90101892 0.93031785\n",
      " 0.99388691 0.94654788 0.98347684 0.94861963 0.98174098 0.95293399\n",
      " 0.91605596 0.93714286 0.96911927 0.98062016 0.99742268 0.96517413\n",
      " 0.95828699 0.92713568 0.87143939 0.92069486 0.96761134 0.98651685\n",
      " 0.97087379 0.89925373 0.98870056 0.98504983 0.97708333 0.98418972\n",
      " 0.97419929 0.93050648 0.95037221 0.95864014 0.95283883 0.9469526\n",
      " 0.89073634 0.90489589 0.9675485  0.99266055 0.98059129 0.99465241\n",
      " 0.98295455 0.99751861 0.96503497 0.99182561 0.96954315 0.99418605\n",
      " 0.984375   0.98492723 0.95816993 1.         0.79093432 0.97197898\n",
      " 0.90899271 0.97808619 0.82758621 0.95897436 0.96350365 0.97887324\n",
      " 0.97860963 0.92961609 0.94700984 0.98305085 0.99534884 1.\n",
      " 1.         1.         0.81940701 0.94029851 0.98333333 0.91532258\n",
      " 0.98007968 0.99008264 0.89632107 0.9321608  0.97626419 1.\n",
      " 0.98563218 0.82640333 0.99661017 0.86344605 0.95652174 0.97948718\n",
      " 0.99339623 0.95061728 1.         0.9751773  0.98648649 0.98958333\n",
      " 0.96165803 0.97264438 0.95049505 0.90849673 1.         1.\n",
      " 0.91304348 1.         0.93548387 0.96538462 0.875      0.93333333\n",
      " 0.95609756 0.91547278 1.         0.96740548 0.98773006 0.99137931\n",
      " 1.         1.         1.         0.84615385 0.97921478 0.94493783\n",
      " 0.97763578 0.93220339 1.         0.97058824 0.97916667 0.93092105\n",
      " 0.98666667 0.94565217 0.98863636 0.99734748 0.93103448 0.97159091\n",
      " 0.87445887 1.         0.99655172 1.         0.96226415 0.99750623\n",
      " 0.98876404 0.97577093 0.9622093  0.98       0.97546012 0.95217391\n",
      " 0.9375     0.98666667 0.99596774 1.         0.93594306 0.99293286\n",
      " 0.91472868 1.         0.99300699 0.98514851 0.87192118 1.\n",
      " 0.78571429 1.         0.99259259 0.85894207 0.94366197 1.\n",
      " 1.         1.         0.98571429 0.98559078 1.         1.\n",
      " 0.9375     0.93333333 0.99009901 1.         1.         0.625\n",
      " 0.97435897 1.         0.94444444 0.87234043 0.77678571 0.81818182\n",
      " 0.97991968 1.         0.96031746 1.         0.78947368 0.98717949\n",
      " 0.99317406 0.92105263 0.95876289 0.99367089 1.         0.99285714\n",
      " 0.98540146 0.93697479 0.98529412 0.93989071 0.95867769 0.97222222\n",
      " 0.99418605 0.93939394 0.968      0.87755102 0.82608696 1.\n",
      " 0.83333333 0.99441341 0.82352941 0.59615385 1.         0.92561983\n",
      " 0.97402597 1.         1.         0.97297297 0.93069307 1.\n",
      " 1.         0.73333333 1.         0.98717949 0.65853659 0.98795181\n",
      " 0.68421053 0.96       1.         0.85714286 0.84615385 0.82142857\n",
      " 1.         0.85714286 0.75       0.89473684 0.53333333 0.97222222\n",
      " 0.         0.         0.         0.         0.         0.        ].\n",
      "\n",
      "recall: [0.97297297 0.97596154 0.98616601 1.         0.96788965 0.91466346\n",
      " 0.96775794 0.9332455  0.96506052 0.80376868 0.98508735 0.88882554\n",
      " 0.93220339 0.92394366 0.89508149 0.94520548 1.         0.8185654\n",
      " 0.93539631 0.90220049 0.98035771 0.88078035 0.92875648 0.90329218\n",
      " 0.94637224 0.76996805 0.98647125 0.92367601 0.98529412 0.98652932\n",
      " 0.94153052 0.95066185 0.80631579 0.90237428 0.87750369 0.96547756\n",
      " 0.85034014 0.92733564 0.93681694 0.95583039 0.98481414 0.99731903\n",
      " 0.94989705 0.99259259 1.         0.98378378 0.98963731 0.96067416\n",
      " 0.92647059 0.97429306 0.89281364 1.         0.89248434 0.97711268\n",
      " 0.92396377 0.95438346 0.76923077 0.94923858 0.98507463 0.97887324\n",
      " 0.97340426 0.90966011 0.89102564 0.94501018 0.97716895 1.\n",
      " 1.         1.         0.79581152 0.99212598 0.98333333 0.77474403\n",
      " 0.9609375  0.94108405 0.80966767 0.88333333 0.94884654 1.\n",
      " 0.98       0.80384226 0.99661017 0.89545758 0.90977444 0.89252336\n",
      " 0.98503274 0.85746102 1.         0.89576547 0.94805195 0.96283784\n",
      " 0.91428571 0.96385542 0.88537549 0.89293362 0.99342105 1.\n",
      " 0.91304348 1.         0.93548387 0.96911197 0.89991863 0.95319149\n",
      " 0.96551724 0.93695015 0.98913043 0.89939394 0.97575758 0.88122605\n",
      " 1.         0.99109792 1.         0.89430894 0.98452012 0.875\n",
      " 0.95031056 1.         0.99728997 0.93220339 0.88679245 0.87888199\n",
      " 0.99328859 0.93548387 0.97752809 0.98947368 0.99473684 0.96067416\n",
      " 0.85957447 0.99669967 0.99312715 0.98230088 0.77272727 0.97323601\n",
      " 0.88       0.92484342 0.91944444 0.96267191 1.         0.85882353\n",
      " 0.97826087 0.8671875  0.99196787 0.95408163 0.87086093 1.\n",
      " 0.77887789 1.         0.75132275 0.99004975 0.96195652 0.96987952\n",
      " 0.91666667 1.         0.93055556 0.81190476 0.88390501 0.83018868\n",
      " 0.9875     1.         0.80232558 0.8680203  0.98333333 1.\n",
      " 0.81325301 0.84848485 0.98039216 1.         0.96875    0.43478261\n",
      " 0.92682927 0.99193548 0.87179487 0.93181818 0.78378378 0.8111588\n",
      " 0.9348659  0.92156863 0.9453125  0.96969697 0.73170732 1.\n",
      " 0.99317406 0.90673575 0.93       0.9691358  0.88888889 0.9858156\n",
      " 1.         0.96956522 0.90540541 0.6798419  1.         1.\n",
      " 1.         0.93939394 0.9453125  0.89583333 0.9047619  0.95081967\n",
      " 0.65217391 0.98342541 0.82352941 0.58490566 0.26666667 0.71794872\n",
      " 1.         1.         0.27272727 0.97297297 0.94       0.80327869\n",
      " 0.91666667 0.6875     0.74390244 0.92771084 0.79411765 0.89130435\n",
      " 0.52       0.84210526 0.21428571 0.6        0.53658537 0.67647059\n",
      " 0.38738739 0.92307692 0.42857143 0.45945946 0.36363636 0.94594595\n",
      " 0.         0.         0.         0.         0.         0.        ].\n",
      "\n",
      "precision moyenne: 0.9233730182248197.\n",
      "\n",
      "recall moyen: 0.8768611139041534.\n",
      "\n",
      "1. in precision :  42\n",
      "0. in precision :  6\n",
      "1. in recall :  42\n",
      "0. in recall :  6\n"
     ]
    },
    {
     "name": "stderr",
     "output_type": "stream",
     "text": [
      "/Users/mac/anaconda3/lib/python3.7/site-packages/sklearn/metrics/classification.py:1135: UndefinedMetricWarning: Precision and F-score are ill-defined and being set to 0.0 in labels with no predicted samples.\n",
      "  'precision', 'predicted', average, warn_for)\n",
      "/Users/mac/anaconda3/lib/python3.7/site-packages/sklearn/metrics/classification.py:1137: UndefinedMetricWarning: Recall and F-score are ill-defined and being set to 0.0 in labels with no true samples.\n",
      "  'recall', 'true', average, warn_for)\n"
     ]
    }
   ],
   "source": [
    "show_performances(clf, X_test, y_test)"
   ]
  },
  {
   "cell_type": "markdown",
   "metadata": {},
   "source": [
    "## Forêts aléatoires"
   ]
  },
  {
   "cell_type": "markdown",
   "metadata": {},
   "source": [
    "### Entrainement"
   ]
  },
  {
   "cell_type": "code",
   "execution_count": 22,
   "metadata": {},
   "outputs": [
    {
     "name": "stdout",
     "output_type": "stream",
     "text": [
      "Model entrainé en : 00:02:48\n"
     ]
    }
   ],
   "source": [
    "clf = RandomForestClassifier(\n",
    "            bootstrap=True, \n",
    "            class_weight=None,\n",
    "            max_depth=None, \n",
    "            n_estimators=60,\n",
    "            n_jobs=4,\n",
    "            random_state=0, \n",
    "            verbose=0\n",
    "            )\n",
    "\n",
    "clf = train_model(clf, X_train, y_train)"
   ]
  },
  {
   "cell_type": "markdown",
   "metadata": {},
   "source": [
    "### Mesures de performances"
   ]
  },
  {
   "cell_type": "code",
   "execution_count": 23,
   "metadata": {},
   "outputs": [
    {
     "name": "stdout",
     "output_type": "stream",
     "text": [
      "Prédictions faites en  : 00h03m09s\n",
      "accuracy: 42.18%.\n",
      "\n",
      "precision: [0.93103448 0.46391753 0.43172691 0.51059322 0.50235841 0.41993958\n",
      " 0.51850072 0.28836988 0.36213445 0.57865685 0.39289895 0.1627907\n",
      " 0.43878866 0.22619048 0.38527567 0.31407407 0.46350365 0.12592593\n",
      " 0.41745389 0.60597826 0.47229095 0.4148784  0.24635332 0.07017544\n",
      " 0.46242038 0.31168831 0.41766362 0.51131222 0.83168317 0.5385274\n",
      " 0.42378917 0.14285714 0.10903427 0.35545852 0.31696429 0.23238381\n",
      " 0.09128631 0.28473945 0.36315229 0.10514019 0.37331536 0.1350211\n",
      " 0.24939759 0.35494881 0.37974684 0.74641148 0.34210526 0.55421687\n",
      " 0.25641026 0.61913696 0.26       0.49166667 0.20773715 0.44949495\n",
      " 0.46717594 0.45020921 0.05952381 0.26966292 0.33928571 0.14912281\n",
      " 0.07446809 0.50805009 0.27849265 0.13649025 0.38461538 0.66097923\n",
      " 0.19473684 0.08695652 0.12857143 0.07407407 0.19672131 0.13013699\n",
      " 0.4863388  0.39723661 0.05543237 0.55850234 0.3080895  0.23809524\n",
      " 0.2037037  0.43255295 0.65957447 0.46529563 0.04069767 0.28235294\n",
      " 0.56517094 0.17370892 0.22580645 0.06481481 0.         0.08383234\n",
      " 0.36446469 0.13658537 0.32952381 0.47216495 0.19565217 0.04347826\n",
      " 0.01587302 0.         0.14814815 0.4        0.27027027 0.26315789\n",
      " 0.06185567 0.55201342 0.16666667 0.39680233 0.5375     0.11458333\n",
      " 0.21311475 0.61130742 0.57466063 0.2173913  0.5298185  0.42231947\n",
      " 0.62333333 0.35294118 0.51162791 0.04918033 0.16981132 0.42702703\n",
      " 0.48780488 0.16470588 0.725      0.11111111 0.11827957 0.37068966\n",
      " 0.17419355 0.84353741 0.8        0.11515152 0.03125    0.58231707\n",
      " 0.03030303 0.21671018 0.37037037 0.27056277 0.7804878  0.06976744\n",
      " 0.25396825 0.10294118 0.64824121 0.11111111 0.16875    0.57553957\n",
      " 0.28977273 0.25842697 0.34782609 0.78109453 0.56739812 0.47826087\n",
      " 0.         0.87868852 0.59607843 0.075      0.19920319 0.\n",
      " 0.26851852 0.14285714 0.075      0.04697987 0.16666667 0.07142857\n",
      " 0.45384615 0.17647059 0.46428571 0.07692308 0.1025641  0.\n",
      " 0.         0.03125    0.1512605  0.04166667 0.12087912 0.07857143\n",
      " 0.11794872 0.12244898 0.5462963  0.13       0.         0.10638298\n",
      " 0.05714286 0.12631579 0.04255319 0.14423077 0.         0.09009009\n",
      " 0.53731343 0.25142857 0.         0.07446809 0.05660377 0.05263158\n",
      " 0.3        0.         0.30882353 0.03448276 0.         0.14705882\n",
      " 0.         0.05970149 0.         0.02272727 0.         0.03921569\n",
      " 0.13333333 0.37671233 0.         0.         0.24242424 0.\n",
      " 0.         0.08695652 0.06122449 0.05714286 0.05555556 0.04225352\n",
      " 0.         0.02173913 0.         0.         0.03333333 0.\n",
      " 0.03333333 0.         0.         0.         0.         0.07142857\n",
      " 0.         0.         0.         0.         0.        ].\n",
      "\n",
      "recall: [0.72972973 0.43269231 0.42490119 0.4781746  0.79103144 0.41766827\n",
      " 0.53521825 0.26570048 0.43548755 0.40870695 0.42905837 0.08380844\n",
      " 0.46169492 0.16056338 0.33963912 0.26400996 0.32816537 0.07172996\n",
      " 0.50380022 0.54523227 0.74172256 0.41907514 0.19689119 0.03292181\n",
      " 0.38170347 0.23003195 0.4460729  0.35202492 0.70588235 0.49841521\n",
      " 0.25580396 0.05415162 0.07368421 0.30010323 0.23951086 0.17836594\n",
      " 0.04988662 0.26470588 0.2329235  0.0795053  0.43948323 0.08579088\n",
      " 0.14207275 0.25679012 0.2173913  0.84324324 0.26943005 0.25842697\n",
      " 0.14705882 0.67866324 0.11084044 0.31052632 0.2045929  0.31338028\n",
      " 0.53719462 0.38346401 0.03205128 0.12182741 0.14179104 0.11971831\n",
      " 0.03723404 0.50805009 0.21581197 0.09979633 0.1826484  0.84454976\n",
      " 0.11314985 0.03125    0.07068063 0.01574803 0.1        0.06484642\n",
      " 0.34765625 0.18067557 0.03776435 0.42619048 0.17953862 0.08403361\n",
      " 0.06285714 0.39231547 0.42033898 0.54408818 0.02631579 0.22429907\n",
      " 0.494855   0.08240535 0.1627907  0.0228013  0.         0.0472973\n",
      " 0.31527094 0.08433735 0.22793149 0.49036403 0.11842105 0.01190476\n",
      " 0.01449275 0.         0.06451613 0.26254826 0.19528072 0.14893617\n",
      " 0.02955665 0.48240469 0.04347826 0.33090909 0.39090909 0.04214559\n",
      " 0.1884058  0.51335312 0.51004016 0.12195122 0.4744582  0.31743421\n",
      " 0.58074534 0.10909091 0.29810298 0.01694915 0.08490566 0.24534161\n",
      " 0.40268456 0.15053763 0.3258427  0.03947368 0.05789474 0.24157303\n",
      " 0.11489362 0.81848185 0.64604811 0.0560472  0.01515152 0.46472019\n",
      " 0.01       0.17327766 0.19444444 0.24557957 0.60377358 0.03529412\n",
      " 0.11594203 0.02734375 0.51807229 0.03061224 0.08940397 0.56939502\n",
      " 0.16831683 0.20720721 0.08465608 0.78109453 0.49184783 0.13253012\n",
      " 0.         0.87581699 0.52777778 0.02142857 0.13192612 0.\n",
      " 0.18125    0.06896552 0.01744186 0.0177665  0.06666667 0.04861111\n",
      " 0.35542169 0.09090909 0.38235294 0.02941176 0.0625     0.\n",
      " 0.         0.00806452 0.11538462 0.02272727 0.0990991  0.0472103\n",
      " 0.08812261 0.05882353 0.4609375  0.09848485 0.         0.06493506\n",
      " 0.02047782 0.06217617 0.02       0.09259259 0.         0.07092199\n",
      " 0.26666667 0.19130435 0.         0.02766798 0.02586207 0.02857143\n",
      " 0.14035088 0.         0.1640625  0.02083333 0.         0.08196721\n",
      " 0.         0.02209945 0.         0.01886792 0.         0.01282051\n",
      " 0.08       0.31976744 0.         0.         0.16       0.\n",
      " 0.         0.04166667 0.03658537 0.02409639 0.02941176 0.0326087\n",
      " 0.         0.01754386 0.         0.         0.02439024 0.\n",
      " 0.00900901 0.         0.         0.         0.         0.02702703\n",
      " 0.         0.         0.         0.         0.        ].\n",
      "\n",
      "precision moyenne: 0.25455058081604703.\n",
      "\n",
      "recall moyen: 0.19747567425259266.\n",
      "\n",
      "1. in precision :  0\n",
      "0. in precision :  31\n",
      "1. in recall :  0\n",
      "0. in recall :  31\n"
     ]
    },
    {
     "name": "stderr",
     "output_type": "stream",
     "text": [
      "/Users/mac/anaconda3/lib/python3.7/site-packages/sklearn/metrics/classification.py:1135: UndefinedMetricWarning: Precision and F-score are ill-defined and being set to 0.0 in labels with no predicted samples.\n",
      "  'precision', 'predicted', average, warn_for)\n"
     ]
    }
   ],
   "source": [
    "show_performances(clf, X_test, y_test)"
   ]
  },
  {
   "cell_type": "code",
   "execution_count": null,
   "metadata": {},
   "outputs": [],
   "source": []
  },
  {
   "cell_type": "code",
   "execution_count": null,
   "metadata": {},
   "outputs": [],
   "source": []
  },
  {
   "cell_type": "code",
   "execution_count": null,
   "metadata": {},
   "outputs": [],
   "source": []
  }
 ],
 "metadata": {
  "kernelspec": {
   "display_name": "Python 3",
   "language": "python",
   "name": "python3"
  },
  "language_info": {
   "codemirror_mode": {
    "name": "ipython",
    "version": 3
   },
   "file_extension": ".py",
   "mimetype": "text/x-python",
   "name": "python",
   "nbconvert_exporter": "python",
   "pygments_lexer": "ipython3",
   "version": "3.7.0"
  }
 },
 "nbformat": 4,
 "nbformat_minor": 2
}
